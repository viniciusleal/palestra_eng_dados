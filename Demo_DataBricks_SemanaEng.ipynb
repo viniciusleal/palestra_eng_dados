{
 "cells": [
  {
   "cell_type": "markdown",
   "metadata": {},
   "source": [
    "# Palestra sobre Engenharia de Dados no CEUB - Demo Databricks\n",
    "## Essa demo utilizou parte do processamento utilizado no Hackathon Data4good na Campus Party em Brasília.\n",
    "Ambiente: Cluster Databricks rodando na AWS e armazenamento utilizando o BlobStorage da Azure.\n"
   ]
  },
  {
   "cell_type": "markdown",
   "metadata": {},
   "source": [
    "## Montando o Azure Blob Storage\n",
    "Uma das recomendações da Microsoft é montar o storage da Azure em um ambiente Databricks.\n",
    "\n",
    "Foi retirado o key do Azure do código abaixo -> \"\""
   ]
  },
  {
   "cell_type": "code",
   "execution_count": null,
   "metadata": {},
   "outputs": [],
   "source": [
    "%scala\n",
    "dbutils.fs.mount(\n",
    "  source = \"wasbs://stg@d4gblobstoragewsteua.blob.core.windows.net\",\n",
    "  mountPoint = \"/mnt/stg2\",\n",
    "  extraConfigs = Map(\"fs.azure.account.key.d4gblobstoragewsteua.blob.core.windows.net\" -> \"\"))"
   ]
  },
  {
   "cell_type": "markdown",
   "metadata": {},
   "source": [
    "## Lendo os Dados\n",
    "Foi feito o upload dos arquivos do micro_censo_escolar referente a matrícula dos alunos do ano de 2017 para o BlobStorage da Azure."
   ]
  },
  {
   "cell_type": "code",
   "execution_count": null,
   "metadata": {},
   "outputs": [],
   "source": [
    "dfsql = sqlContext.read.format('csv').options(header='true', inferSchema='true', sep='|').load('dbfs:/mnt/stg2/micro_censo_escolar_2017/matricula')"
   ]
  },
  {
   "cell_type": "markdown",
   "metadata": {},
   "source": [
    "### Conferindo o tipo do objeto"
   ]
  },
  {
   "cell_type": "code",
   "execution_count": null,
   "metadata": {},
   "outputs": [],
   "source": [
    "type(dfsql)"
   ]
  },
  {
   "cell_type": "markdown",
   "metadata": {},
   "source": [
    "### Visualizando os dados do DataFrame"
   ]
  },
  {
   "cell_type": "code",
   "execution_count": null,
   "metadata": {},
   "outputs": [],
   "source": [
    "display(dfsql)"
   ]
  },
  {
   "cell_type": "markdown",
   "metadata": {},
   "source": [
    "### Contando a quantidade de registros do DataFrame"
   ]
  },
  {
   "cell_type": "code",
   "execution_count": null,
   "metadata": {},
   "outputs": [],
   "source": [
    "dfsql.count()"
   ]
  },
  {
   "cell_type": "markdown",
   "metadata": {},
   "source": [
    "# Tratamento dos Dados\n",
    "Uma excelente vantagem do Databricks é a utilização de várias linguagens dentro do mesmo notebook, sendo necessário apenas especificar o comando %, como esse ambiente foi criando em Python, não é necessário especificar com o comando %python."
   ]
  },
  {
   "cell_type": "markdown",
   "metadata": {},
   "source": [
    "### Criando uma Temp View para poder utilizar os dados do DataFrame com os comandos SQL"
   ]
  },
  {
   "cell_type": "code",
   "execution_count": null,
   "metadata": {},
   "outputs": [],
   "source": [
    "dfsql.createOrReplaceTempView(\"vw_matricula_2017\")"
   ]
  },
  {
   "cell_type": "markdown",
   "metadata": {},
   "source": [
    "Agora podemos rodar os nossos SQL's especificando o %sql"
   ]
  },
  {
   "cell_type": "markdown",
   "metadata": {},
   "source": [
    "### Visualizando os dados com SQL"
   ]
  },
  {
   "cell_type": "code",
   "execution_count": null,
   "metadata": {},
   "outputs": [],
   "source": [
    "%sql\n",
    "\n",
    "SELECT * FROM vw_matricula_2017"
   ]
  },
  {
   "cell_type": "markdown",
   "metadata": {},
   "source": [
    "### Agregando os dados e fazendo algumas tranformações\n",
    "Esse dataset foi preparado para fazer análises de Machine Leaning por isso possui muitas colunas com datatype numérico, um dos tratamentos em Analytics para melhor visualização em um dashboard é criar \"labels\" de alguns atributos."
   ]
  },
  {
   "cell_type": "code",
   "execution_count": null,
   "metadata": {},
   "outputs": [],
   "source": [
    "%sql\n",
    "\n",
    "CREATE TABLE TB_MATRICULA_AGREAGADA_2017 AS\n",
    "SELECT NU_ANO_CENSO\n",
    "       ,NU_IDADE\n",
    "       ,TP_SEXO\n",
    "       ,TP_COR_RACA\n",
    "       ,TP_ETAPA_ENSINO\n",
    "\t  ,CASE WHEN TP_ETAPA_ENSINO = 1 THEN 'Educação Infantil'\n",
    "WHEN TP_ETAPA_ENSINO = 2 THEN 'Educação Infantil'\n",
    "WHEN TP_ETAPA_ENSINO = 4 THEN 'Educação Infantil'\n",
    "WHEN TP_ETAPA_ENSINO = 5 THEN 'Educação Infantil'\n",
    "WHEN TP_ETAPA_ENSINO = 4 THEN 'Ensino Fundamental'\n",
    "WHEN TP_ETAPA_ENSINO = 5 THEN 'Ensino Fundamental'\n",
    "WHEN TP_ETAPA_ENSINO = 6 THEN 'Ensino Fundamental'\n",
    "WHEN TP_ETAPA_ENSINO = 7 THEN 'Ensino Fundamental'\n",
    "WHEN TP_ETAPA_ENSINO = 8 THEN 'Ensino Fundamental'\n",
    "WHEN TP_ETAPA_ENSINO = 9 THEN 'Ensino Fundamental'\n",
    "WHEN TP_ETAPA_ENSINO = 10 THEN 'Ensino Fundamental'\n",
    "WHEN TP_ETAPA_ENSINO = 11 THEN 'Ensino Fundamental'\n",
    "WHEN TP_ETAPA_ENSINO = 16 THEN 'Ensino Fundamental'\n",
    "WHEN TP_ETAPA_ENSINO = 17 THEN 'Ensino Fundamental'\n",
    "WHEN TP_ETAPA_ENSINO = 14 THEN 'Ensino Fundamental'\n",
    "WHEN TP_ETAPA_ENSINO = 15 THEN 'Ensino Fundamental'\n",
    "WHEN TP_ETAPA_ENSINO = 16 THEN 'Ensino Fundamental'\n",
    "WHEN TP_ETAPA_ENSINO = 17 THEN 'Ensino Fundamental'\n",
    "WHEN TP_ETAPA_ENSINO = 18 THEN 'Ensino Fundamental'\n",
    "WHEN TP_ETAPA_ENSINO = 19 THEN 'Ensino Fundamental'\n",
    "WHEN TP_ETAPA_ENSINO = 20 THEN 'Ensino Fundamental'\n",
    "WHEN TP_ETAPA_ENSINO = 21 THEN 'Ensino Fundamental'\n",
    "WHEN TP_ETAPA_ENSINO = 41 THEN 'Ensino Fundamental'\n",
    "WHEN TP_ETAPA_ENSINO = 22 THEN 'Ensino Fundamental'\n",
    "WHEN TP_ETAPA_ENSINO = 23 THEN 'Ensino Fundamental'\n",
    "WHEN TP_ETAPA_ENSINO = 24 THEN 'Ensino Fundamental'\n",
    "WHEN TP_ETAPA_ENSINO = 25 THEN 'Ensino Médio'\n",
    "WHEN TP_ETAPA_ENSINO = 26 THEN 'Ensino Médio'\n",
    "WHEN TP_ETAPA_ENSINO = 27 THEN 'Ensino Médio'\n",
    "WHEN TP_ETAPA_ENSINO = 28 THEN 'Ensino Médio'\n",
    "WHEN TP_ETAPA_ENSINO = 29 THEN 'Ensino Médio'\n",
    "WHEN TP_ETAPA_ENSINO = 30 THEN 'Não se aplica'\n",
    "WHEN TP_ETAPA_ENSINO = 31 THEN 'Não se aplica'\n",
    "WHEN TP_ETAPA_ENSINO = 32 THEN 'Não se aplica'\n",
    "WHEN TP_ETAPA_ENSINO = 33 THEN 'Não se aplica'\n",
    "WHEN TP_ETAPA_ENSINO = 34 THEN 'Não se aplica'\n",
    "WHEN TP_ETAPA_ENSINO = 35 THEN 'Não se aplica'\n",
    "WHEN TP_ETAPA_ENSINO = 36 THEN 'Não se aplica'\n",
    "WHEN TP_ETAPA_ENSINO = 37 THEN 'Não se aplica'\n",
    "WHEN TP_ETAPA_ENSINO = 38 THEN 'Não se aplica'\n",
    "WHEN TP_ETAPA_ENSINO = 39 THEN 'Não se aplica'\n",
    "WHEN TP_ETAPA_ENSINO = 40 THEN 'Não se aplica'\n",
    "WHEN TP_ETAPA_ENSINO = 64 THEN 'Não se aplica'\n",
    "WHEN TP_ETAPA_ENSINO = 68 THEN 'Não se aplica'\n",
    "WHEN TP_ETAPA_ENSINO = 65 THEN 'EJA'\n",
    "WHEN TP_ETAPA_ENSINO = 67 THEN 'Não se aplica'\n",
    "WHEN TP_ETAPA_ENSINO = 69 THEN 'EJA'\n",
    "WHEN TP_ETAPA_ENSINO = 70 THEN 'EJA'\n",
    "WHEN TP_ETAPA_ENSINO = 71 THEN 'EJA'\n",
    "WHEN TP_ETAPA_ENSINO = 72 THEN 'EJA'\n",
    "WHEN TP_ETAPA_ENSINO = 73 THEN 'Não se aplica'\n",
    "WHEN TP_ETAPA_ENSINO = 74 THEN 'Não se aplica' \n",
    "ELSE  'Não se aplica' \n",
    "END AS TP_CATEGORIA_ETAPA_ENSINO,\n",
    "CASE WHEN CO_UF = 11 THEN 'RO'\n",
    "WHEN CO_UF = 12 THEN 'AC'\n",
    "WHEN CO_UF = 13 THEN 'AM'\n",
    "WHEN CO_UF = 14 THEN 'RR'\n",
    "WHEN CO_UF = 15 THEN 'PA'\n",
    "WHEN CO_UF = 16 THEN 'AP'\n",
    "WHEN CO_UF = 17 THEN 'TO'\n",
    "WHEN CO_UF = 21 THEN 'MA'\n",
    "WHEN CO_UF = 22 THEN 'PI'\n",
    "WHEN CO_UF = 23 THEN 'CE'\n",
    "WHEN CO_UF = 24 THEN 'RN'\n",
    "WHEN CO_UF = 25 THEN 'PB'\n",
    "WHEN CO_UF = 26 THEN 'PE'\n",
    "WHEN CO_UF = 27 THEN 'AL'\n",
    "WHEN CO_UF = 28 THEN 'SE'\n",
    "WHEN CO_UF = 29 THEN 'BA'\n",
    "WHEN CO_UF = 31 THEN 'MG'\n",
    "WHEN CO_UF = 32 THEN 'ES'\n",
    "WHEN CO_UF = 33 THEN 'RJ'\n",
    "WHEN CO_UF = 35 THEN 'SP'\n",
    "WHEN CO_UF = 41 THEN 'PR'\n",
    "WHEN CO_UF = 42 THEN 'SC'\n",
    "WHEN CO_UF = 43 THEN 'RS'\n",
    "WHEN CO_UF = 50 THEN 'MS'\n",
    "WHEN CO_UF = 51 THEN 'MT'\n",
    "WHEN CO_UF = 52 THEN 'GO'\n",
    "WHEN CO_UF = 53 THEN 'DF' END SG_UF\n",
    "       ,CO_MUNICIPIO\n",
    "\t    ,CO_MUNICIPIO_END\n",
    "  \t   ,CASE WHEN CO_MUNICIPIO != CO_MUNICIPIO_END THEN '1'\n",
    "\t   \t\tELSE '0' END AS IN_DISTANCIA_MUNICIPIO\n",
    "       ,TP_LOCALIZACAO\n",
    "       ,COUNT(CO_ENTIDADE)      AS QTD_ESCOLA\n",
    "\t   ,COUNT(CO_PESSOA_FISICA) AS QTD_ALUNO\n",
    "  FROM vw_matricula_2017\n",
    "  GROUP BY NU_ANO_CENSO\n",
    "  \t\t\t,NU_IDADE\n",
    "\t\t\t ,TP_SEXO\n",
    "       ,TP_COR_RACA\n",
    "       ,TP_ETAPA_ENSINO\n",
    "       ,CO_UF\n",
    "       ,CO_MUNICIPIO\n",
    "\t   ,CO_MUNICIPIO_END\n",
    "       ,TP_LOCALIZACAO\n"
   ]
  },
  {
   "cell_type": "markdown",
   "metadata": {},
   "source": [
    "### Visualizando os dados da tabela agregada"
   ]
  },
  {
   "cell_type": "code",
   "execution_count": null,
   "metadata": {},
   "outputs": [],
   "source": [
    "%sql\n",
    "\n",
    "SELECT * FROM TB_MATRICULA_AGREAGADA_2017"
   ]
  },
  {
   "cell_type": "markdown",
   "metadata": {},
   "source": [
    "# Analisando os Dados\n",
    "Para melhorar ainda mais os dados para um Dashboard, foi criado alguns atributos como Região, além disso foi feito mais uma agregação para melhorar apresentação. "
   ]
  },
  {
   "cell_type": "code",
   "execution_count": null,
   "metadata": {},
   "outputs": [],
   "source": [
    "SELECT NU_ANO_CENSO\n",
    "\t  ,TP_CATEGORIA_ETAPA_ENSINO\n",
    "\t  ,NU_IDADE\n",
    "\t  ,TP_SEXO\n",
    "\t  ,TP_COR_RACA\n",
    "\t  ,SG_UF\n",
    "\t  ,TP_REGIAO\n",
    "\t  ,CO_MUNICIPIO\n",
    "\t  ,NOME_MUNICIPIO\n",
    "\t  ,TP_LOCALIZACAO\n",
    "\t  ,LONGITUDE\n",
    "\t  ,LATITUDE\n",
    "      ,SUM(DISTORCAO_IDADE_SERIE)  AS QTD_DISTORCAO_IDADE_SERIE\n",
    "\t  ,SUM(QTD_ESCOLA)             AS QTD_ESCOLA\n",
    "\t  ,SUM(IN_DISTANCIA_MUNICIPIO) AS QTD_DISTANCIA_MUNICIPIO \n",
    "\t  ,SUM(QTD_ALUNO)              AS QTD_ALUNO\n",
    "  FROM (\n",
    "\t\tSELECT NU_ANO_CENSO\n",
    "\t\t       ,CASE \n",
    "\t\t\t\t    WHEN NU_IDADE >= (IDADE_IDEAL + 2) THEN QTD_ALUNO  \n",
    "\t\t\t\tELSE 0\n",
    "\t\t\t   END DISTORCAO_IDADE_SERIE\n",
    "\t\t\t  ,TP_CATEGORIA_ETAPA_ENSINO\n",
    "\t\t\t  ,NU_IDADE\n",
    "\t\t\t  ,CASE \n",
    "\t\t\t    WHEN TP_SEXO = 1 THEN 'Masculino'\n",
    "\t\t\t    WHEN TP_SEXO = 2 THEN 'Feminino'\n",
    "\t\t\t   END AS TP_SEXO\n",
    "\t\t\t  ,CASE   \n",
    "\t\t\t     WHEN TP_COR_RACA = '0' THEN 'Nao declarada'\n",
    "\t\t\t\t WHEN TP_COR_RACA = '1' THEN 'Branca'\n",
    "\t\t\t\t WHEN TP_COR_RACA = '2' THEN 'Preta'\n",
    "\t\t\t\t WHEN TP_COR_RACA = '3' THEN 'Parda'\n",
    "\t\t\t\t WHEN TP_COR_RACA = '4' THEN 'Amarela'\n",
    "\t\t\t\t WHEN TP_COR_RACA = '5' THEN 'Indigena'\n",
    "\t\t\t   END AS TP_COR_RACA\n",
    "\t\t\t  ,CASE \n",
    "\t\t\t     WHEN SG_UF = 'MA' THEN 'Nordeste'\n",
    "                 WHEN SG_UF = 'PI' THEN 'Nordeste'\n",
    "\t\t\t\t WHEN SG_UF = 'CE' THEN 'Nordeste'\n",
    "\t\t\t\t WHEN SG_UF = 'RN' THEN 'Nordeste'\n",
    "\t\t\t\t WHEN SG_UF = 'PE' THEN 'Nordeste'\n",
    "\t\t\t\t WHEN SG_UF = 'PB' THEN 'Nordeste'\n",
    "\t\t\t\t WHEN SG_UF = 'SE' THEN 'Nordeste'\n",
    "\t\t\t\t WHEN SG_UF = 'AL' THEN 'Nordeste'\n",
    "\t\t\t\t WHEN SG_UF = 'BA' THEN 'Nordeste'\n",
    "\t\t\t\t WHEN SG_UF = 'MT' THEN 'Centro-Oeste'\n",
    "\t\t\t\t WHEN SG_UF = 'MS' THEN 'Centro-Oeste'\n",
    "\t\t\t\t WHEN SG_UF = 'GO' THEN 'Centro-Oeste'\n",
    "\t\t\t\t WHEN SG_UF = 'SP' THEN 'Sudeste'\n",
    "\t\t\t\t WHEN SG_UF = 'RJ' THEN 'Sudeste'\n",
    "\t\t\t\t WHEN SG_UF = 'ES' THEN 'Sudeste'\n",
    "\t\t\t\t WHEN SG_UF = 'MG' THEN 'Sudeste'\n",
    "\t\t\t\t WHEN SG_UF = 'PR' THEN 'Sul'\n",
    "\t\t\t\t WHEN SG_UF = 'RS' THEN 'Sul'\n",
    "\t\t\t\t WHEN SG_UF = 'SC' THEN 'Sul'\n",
    "\t\t\t   END TP_REGIAO\n",
    "\t\t\t  ,SG_UF\n",
    "\t\t\t  ,CO_MUNICIPIO\n",
    "\t\t\t  ,NOME_MUNICIPIO\n",
    "\t\t\t  ,TP_LOCALIZACAO\n",
    "\t\t\t  ,LONGITUDE\n",
    "\t\t\t  ,LATITUDE\n",
    "\t\t\t  ,QTD_ALUNO\n",
    "\t\t\t  ,QTD_ESCOLA\n",
    "\t\t\t  ,IN_DISTANCIA_MUNICIPIO\n",
    "\t\t  FROM (\n",
    "\t\t\t\tSELECT \n",
    "\t\t\t\t\t\tCASE \n",
    "\t\t\t\t\t\t\tWHEN TP_ETAPA_ENSINO = 1 THEN 3 --0 a 3 anos\n",
    "\t\t\t\t\t\t\tWHEN TP_ETAPA_ENSINO = 2 THEN 5 --4 e 5 anos\n",
    "\t\t\t\t\t\t\tWHEN TP_ETAPA_ENSINO = 4 THEN 5 --0 a 5 anos\n",
    "\t\t\t\t\t\t\tWHEN TP_ETAPA_ENSINO = 4 THEN 7\n",
    "\t\t\t\t\t\t\tWHEN TP_ETAPA_ENSINO = 5 THEN 8\n",
    "\t\t\t\t\t\t\tWHEN TP_ETAPA_ENSINO = 6 THEN 9\n",
    "\t\t\t\t\t\t\tWHEN TP_ETAPA_ENSINO = 7 THEN 10\n",
    "\t\t\t\t\t\t\tWHEN TP_ETAPA_ENSINO = 8 THEN 11\n",
    "\t\t\t\t\t\t\tWHEN TP_ETAPA_ENSINO = 9 THEN 12\n",
    "\t\t\t\t\t\t\tWHEN TP_ETAPA_ENSINO = 10 THEN 13\n",
    "\t\t\t\t\t\t\tWHEN TP_ETAPA_ENSINO = 11 THEN 14\n",
    "\t\t\t\t\t\t\tWHEN TP_ETAPA_ENSINO = 14 THEN 6\n",
    "\t\t\t\t\t\t\tWHEN TP_ETAPA_ENSINO = 15 THEN 7\n",
    "\t\t\t\t\t\t\tWHEN TP_ETAPA_ENSINO = 16 THEN 8\n",
    "\t\t\t\t\t\t\tWHEN TP_ETAPA_ENSINO = 17 THEN 9\n",
    "\t\t\t\t\t\t\tWHEN TP_ETAPA_ENSINO = 18 THEN 10\n",
    "\t\t\t\t\t\t\tWHEN TP_ETAPA_ENSINO = 19 THEN 11\n",
    "\t\t\t\t\t\t\tWHEN TP_ETAPA_ENSINO = 20 THEN 12\n",
    "\t\t\t\t\t\t\tWHEN TP_ETAPA_ENSINO = 21 THEN 13\n",
    "\t\t\t\t\t\t\tWHEN TP_ETAPA_ENSINO = 41 THEN 14\n",
    "\t\t\t\t\t\t\tWHEN TP_ETAPA_ENSINO = 25 THEN 15\n",
    "\t\t\t\t\t\t\tWHEN TP_ETAPA_ENSINO = 26 THEN 16\n",
    "\t\t\t\t\t\t\tWHEN TP_ETAPA_ENSINO = 27 THEN 17\n",
    "\t\t\t\t\t\t\tWHEN TP_ETAPA_ENSINO = 28 THEN 18\n",
    "                            WHEN TP_ETAPA_ENSINO = 29 THEN 18 --15 a 18 anos\n",
    "                            WHEN TP_ETAPA_ENSINO = 30 THEN 15\n",
    "                            WHEN TP_ETAPA_ENSINO = 31 THEN 16\n",
    "                            WHEN TP_ETAPA_ENSINO = 32 THEN 17\n",
    "                            WHEN TP_ETAPA_ENSINO = 33 THEN 18\n",
    "                            WHEN TP_ETAPA_ENSINO = 34 THEN 18 --15 a 18 anos\n",
    "                            WHEN TP_ETAPA_ENSINO = 35 THEN 15\n",
    "                            WHEN TP_ETAPA_ENSINO = 36 THEN 16\n",
    "                            WHEN TP_ETAPA_ENSINO = 37 THEN 17\n",
    "                            WHEN TP_ETAPA_ENSINO = 38 THEN 18\n",
    "                            WHEN TP_ETAPA_ENSINO = 39 THEN 18 --15 a 18 anos\n",
    "\t\t\t\t\t\tEND IDADE_IDEAL\n",
    "\t\t\t\t\t\t,DS.TP_CATEGORIA_ETAPA_ENSINO\n",
    "\t\t\t\t\t\t,DS.TP_ETAPA_ENSINO\n",
    "\t\t\t\t\t\t,DS.NU_IDADE\n",
    "\t\t\t\t\t\t,DS.TP_SEXO\n",
    "\t\t\t\t\t\t,DS.TP_COR_RACA\n",
    "\t\t\t\t\t\t,DS.SG_UF\n",
    "\t\t\t\t\t\t,DS.CO_MUNICIPIO\n",
    "\t\t\t\t\t\t,DS.TP_LOCALIZACAO\n",
    "\t\t\t\t\t\t,STG.NOME_MUNICIPIO\n",
    "\t\t\t\t\t\t,STG.LONGITUDE\n",
    "\t\t\t\t\t\t,STG.LATITUDE\n",
    "\t\t\t\t\t\t,DS.NU_ANO_CENSO\n",
    "\t\t\t\t\t\t,DS.QTD_ALUNO\n",
    "\t\t\t\t\t\t,DS.QTD_ESCOLA\n",
    "\t\t\t\t\t\t,DS.IN_DISTANCIA_MUNICIPIO\n",
    "\t\t\t\tFROM DEFAULT.TB_MATRICULA_AGREAGADA DS\n",
    "\t\t\t\tJOIN DEFAULT.TB_MUNICIPIO_LAT_LONG STG\n",
    "\t\t\t\t  ON RTRIM(LTRIM(STG.GEOCODIGO_MUNICIPIO)) = RTRIM(LTRIM(DS.CO_MUNICIPIO))\n",
    "\t\t\t  ) AS V1\n",
    "  ) AS V2\n",
    "GROUP BY NU_ANO_CENSO\n",
    "\t    ,TP_CATEGORIA_ETAPA_ENSINO\n",
    "\t    ,NU_IDADE\n",
    "\t    ,TP_SEXO\n",
    "\t    ,TP_COR_RACA\n",
    "\t\t,TP_REGIAO\n",
    "\t    ,SG_UF\n",
    "\t    ,CO_MUNICIPIO\n",
    "\t    ,NOME_MUNICIPIO\n",
    "\t    ,TP_LOCALIZACAO\n",
    "\t    ,LONGITUDE\n",
    "\t    ,LATITUDE"
   ]
  },
  {
   "cell_type": "markdown",
   "metadata": {},
   "source": [
    "# Trabalhando com 5 Anos de Dados"
   ]
  },
  {
   "cell_type": "markdown",
   "metadata": {},
   "source": [
    "### Armazenando em um DataFrame o ano de 2016"
   ]
  },
  {
   "cell_type": "code",
   "execution_count": null,
   "metadata": {},
   "outputs": [],
   "source": [
    "dfsql2016 = sqlContext.read.format('csv').options(header='true', inferSchema='true', sep='|').load('dbfs:/mnt/stg2/micro_censo_escolar_2016/matricula')"
   ]
  },
  {
   "cell_type": "markdown",
   "metadata": {},
   "source": [
    "### Convertendo o DataFrame do ano de 2016 em TempView para usar o comando SQL"
   ]
  },
  {
   "cell_type": "code",
   "execution_count": null,
   "metadata": {},
   "outputs": [],
   "source": [
    "dfsql2016.createOrReplaceTempView(\"vw_matricula_2016\")"
   ]
  },
  {
   "cell_type": "markdown",
   "metadata": {},
   "source": [
    "### Armazenando em um DataFrame o ano de 2015"
   ]
  },
  {
   "cell_type": "code",
   "execution_count": null,
   "metadata": {},
   "outputs": [],
   "source": [
    "dfsql2015 = sqlContext.read.format('csv').options(header='true', inferSchema='true', sep='|').load('dbfs:/mnt/stg2/micro_censo_escolar_2015/matricula')"
   ]
  },
  {
   "cell_type": "markdown",
   "metadata": {},
   "source": [
    "### Convertendo o DataFrame do ano de 2015 em TempView para usar o comando SQL"
   ]
  },
  {
   "cell_type": "code",
   "execution_count": null,
   "metadata": {},
   "outputs": [],
   "source": [
    "dfsql2015.createOrReplaceTempView(\"vw_matricula_2015\")"
   ]
  },
  {
   "cell_type": "markdown",
   "metadata": {},
   "source": [
    "### Armazenando em um DataFrame o ano de 2014"
   ]
  },
  {
   "cell_type": "code",
   "execution_count": null,
   "metadata": {},
   "outputs": [],
   "source": [
    "dfsql2014 = sqlContext.read.format('csv').options(header='true', inferSchema='true', sep='|').load('dbfs:/mnt/stg2/micro_censo_escolar_2014/matricula')"
   ]
  },
  {
   "cell_type": "markdown",
   "metadata": {},
   "source": [
    "### Convertendo o DataFrame do ano de 2014 em TempView para usar o comando SQL"
   ]
  },
  {
   "cell_type": "code",
   "execution_count": null,
   "metadata": {},
   "outputs": [],
   "source": [
    "dfsql2014.createOrReplaceTempView(\"vw_matricula_2014\")"
   ]
  },
  {
   "cell_type": "markdown",
   "metadata": {},
   "source": [
    "### Armazenando em um DataFrame o ano de 2013"
   ]
  },
  {
   "cell_type": "code",
   "execution_count": null,
   "metadata": {},
   "outputs": [],
   "source": [
    "dfsql2013 = sqlContext.read.format('csv').options(header='true', inferSchema='true', sep='|').load('dbfs:/mnt/stg2/micro_censo_escolar_2013/matricula')"
   ]
  },
  {
   "cell_type": "markdown",
   "metadata": {},
   "source": [
    "### Convertendo o DataFrame do ano de 2013 em TempView para usar o comando SQL"
   ]
  },
  {
   "cell_type": "code",
   "execution_count": null,
   "metadata": {},
   "outputs": [],
   "source": [
    "dfsql2013.createOrReplaceTempView(\"vw_matricula_2013\")"
   ]
  },
  {
   "cell_type": "markdown",
   "metadata": {},
   "source": [
    "## Junção de 5 anos de datasets\n",
    "lembrando que esses dados são RAW e por isso possuem algo em torno de 50 milhões de linhas em cada ano."
   ]
  },
  {
   "cell_type": "code",
   "execution_count": null,
   "metadata": {},
   "outputs": [],
   "source": [
    "%sql\n",
    "\n",
    "CREATE TABLE TB_MATRICULA \n",
    "AS \n",
    "SELECT *  FROM vw_matricula_2017\n",
    "UNION ALL\n",
    "SELECT *  FROM vw_matricula_2016\n",
    "UNION ALL \n",
    "SELECT *  FROM vw_matricula_2015\n",
    "UNION ALL\n",
    "SELECT *  FROM vw_matricula_2014\n",
    "UNION ALL\n",
    "SELECT *  FROM vw_matricula_2013"
   ]
  }
 ],
 "metadata": {
  "kernelspec": {
   "display_name": "Python 3",
   "language": "python",
   "name": "python3"
  },
  "language_info": {
   "codemirror_mode": {
    "name": "ipython",
    "version": 3
   },
   "file_extension": ".py",
   "mimetype": "text/x-python",
   "name": "python",
   "nbconvert_exporter": "python",
   "pygments_lexer": "ipython3",
   "version": "3.6.8"
  },
  "name": "SemanaEng",
  "notebookId": 1818790449803766
 },
 "nbformat": 4,
 "nbformat_minor": 1
}
